{
  "nbformat": 4,
  "nbformat_minor": 0,
  "metadata": {
    "colab": {
      "name": "News Category Classification using TF-IDF Vectorizer and Multinomial Naive Bayes.ipynb",
      "provenance": [],
      "collapsed_sections": [],
      "toc_visible": true,
      "authorship_tag": "ABX9TyMQECY4EbM+wy4Hu0NB+EfE",
      "include_colab_link": true
    },
    "kernelspec": {
      "name": "python3",
      "display_name": "Python 3"
    },
    "language_info": {
      "name": "python"
    }
  },
  "cells": [
    {
      "cell_type": "markdown",
      "metadata": {
        "id": "view-in-github",
        "colab_type": "text"
      },
      "source": [
        "<a href=\"https://colab.research.google.com/github/LinggarM/News-Category-Classification-using-TF-IDF-Vectorizer-and-Multinomial-Naive-Bayes/blob/main/News_Category_Classification_using_TF_IDF_Vectorizer_and_Multinomial_Naive_Bayes.ipynb\" target=\"_parent\"><img src=\"https://colab.research.google.com/assets/colab-badge.svg\" alt=\"Open In Colab\"/></a>"
      ]
    },
    {
      "cell_type": "markdown",
      "metadata": {
        "id": "jIfFYdVqphI5"
      },
      "source": [
        "# Data Collection"
      ]
    },
    {
      "cell_type": "code",
      "metadata": {
        "colab": {
          "base_uri": "https://localhost:8080/"
        },
        "id": "k5kMnmSZo7v6",
        "outputId": "47b755d9-11cd-49b1-f741-1475458dca98"
      },
      "source": [
        "from sklearn.datasets import fetch_20newsgroups_vectorized\n",
        "from sklearn.datasets import fetch_20newsgroups\n",
        "\n",
        "x_train, y_train = fetch_20newsgroups(subset = 'train', remove = ('headers', 'footers'), return_X_y = True)\n",
        "x_test, y_test = fetch_20newsgroups(subset = 'test', remove = ('headers', 'footers'), return_X_y = True)"
      ],
      "execution_count": null,
      "outputs": [
        {
          "output_type": "stream",
          "text": [
            "Downloading 20news dataset. This may take a few minutes.\n",
            "Downloading dataset from https://ndownloader.figshare.com/files/5975967 (14 MB)\n"
          ],
          "name": "stderr"
        }
      ]
    },
    {
      "cell_type": "code",
      "metadata": {
        "id": "phOAR7O4sI91"
      },
      "source": [
        "news_data = fetch_20newsgroups(subset = 'all', remove = ('headers', 'footers'))\n",
        "# train_data = fetch_20newsgroups(subset = 'train', remove = ('headers', 'footers'))\n",
        "# test_data = fetch_20newsgroups(subset = 'test', remove = ('headers', 'footers'))\n",
        "x_train, y_train = fetch_20newsgroups(subset = 'train', remove = ('headers', 'footers'), return_X_y = True)\n",
        "x_test, y_test = fetch_20newsgroups(subset = 'test', remove = ('headers', 'footers'), return_X_y = True)\n",
        "# train_data.target"
      ],
      "execution_count": null,
      "outputs": []
    },
    {
      "cell_type": "markdown",
      "metadata": {
        "id": "Pht6xffMy4rI"
      },
      "source": [
        "# Data Preparation"
      ]
    },
    {
      "cell_type": "code",
      "metadata": {
        "colab": {
          "base_uri": "https://localhost:8080/",
          "height": 419
        },
        "id": "tzjLUfceslYL",
        "outputId": "3aeb1c94-e721-4b5c-cc42-c317a6703a83"
      },
      "source": [
        "import numpy as np\n",
        "import pandas as pd\n",
        "\n",
        "df_news = pd.DataFrame(data = {'text' : news_data.data, 'class' : news_data.target})\n",
        "df_news"
      ],
      "execution_count": null,
      "outputs": [
        {
          "output_type": "execute_result",
          "data": {
            "text/html": [
              "<div>\n",
              "<style scoped>\n",
              "    .dataframe tbody tr th:only-of-type {\n",
              "        vertical-align: middle;\n",
              "    }\n",
              "\n",
              "    .dataframe tbody tr th {\n",
              "        vertical-align: top;\n",
              "    }\n",
              "\n",
              "    .dataframe thead th {\n",
              "        text-align: right;\n",
              "    }\n",
              "</style>\n",
              "<table border=\"1\" class=\"dataframe\">\n",
              "  <thead>\n",
              "    <tr style=\"text-align: right;\">\n",
              "      <th></th>\n",
              "      <th>text</th>\n",
              "      <th>class</th>\n",
              "    </tr>\n",
              "  </thead>\n",
              "  <tbody>\n",
              "    <tr>\n",
              "      <th>0</th>\n",
              "      <td>\\n\\nI am sure some bashers of Pens fans are pr...</td>\n",
              "      <td>10</td>\n",
              "    </tr>\n",
              "    <tr>\n",
              "      <th>1</th>\n",
              "      <td>My brother is in the market for a high-perform...</td>\n",
              "      <td>3</td>\n",
              "    </tr>\n",
              "    <tr>\n",
              "      <th>2</th>\n",
              "      <td>|&gt;The student of \"regional killings\" alias Dav...</td>\n",
              "      <td>17</td>\n",
              "    </tr>\n",
              "    <tr>\n",
              "      <th>3</th>\n",
              "      <td>In article &lt;1993Apr19.034517.12820@julian.uwo....</td>\n",
              "      <td>3</td>\n",
              "    </tr>\n",
              "    <tr>\n",
              "      <th>4</th>\n",
              "      <td>1)    I have an old Jasmine drive which I cann...</td>\n",
              "      <td>4</td>\n",
              "    </tr>\n",
              "    <tr>\n",
              "      <th>...</th>\n",
              "      <td>...</td>\n",
              "      <td>...</td>\n",
              "    </tr>\n",
              "    <tr>\n",
              "      <th>18841</th>\n",
              "      <td>DN&gt; From: nyeda@cnsvax.uwec.edu (David Nye)\\nD...</td>\n",
              "      <td>13</td>\n",
              "    </tr>\n",
              "    <tr>\n",
              "      <th>18842</th>\n",
              "      <td>In article &lt;1993Apr22.004728.6736@mtu.edu&gt; cmw...</td>\n",
              "      <td>12</td>\n",
              "    </tr>\n",
              "    <tr>\n",
              "      <th>18843</th>\n",
              "      <td>I just installed a DX2-66 CPU in a clone mothe...</td>\n",
              "      <td>3</td>\n",
              "    </tr>\n",
              "    <tr>\n",
              "      <th>18844</th>\n",
              "      <td>In article &lt;1qkgbuINNs9n@shelley.u.washington....</td>\n",
              "      <td>1</td>\n",
              "    </tr>\n",
              "    <tr>\n",
              "      <th>18845</th>\n",
              "      <td>After a tip from Gary Crum (crum@fcom.cc.utah....</td>\n",
              "      <td>7</td>\n",
              "    </tr>\n",
              "  </tbody>\n",
              "</table>\n",
              "<p>18846 rows × 2 columns</p>\n",
              "</div>"
            ],
            "text/plain": [
              "                                                    text  class\n",
              "0      \\n\\nI am sure some bashers of Pens fans are pr...     10\n",
              "1      My brother is in the market for a high-perform...      3\n",
              "2      |>The student of \"regional killings\" alias Dav...     17\n",
              "3      In article <1993Apr19.034517.12820@julian.uwo....      3\n",
              "4      1)    I have an old Jasmine drive which I cann...      4\n",
              "...                                                  ...    ...\n",
              "18841  DN> From: nyeda@cnsvax.uwec.edu (David Nye)\\nD...     13\n",
              "18842  In article <1993Apr22.004728.6736@mtu.edu> cmw...     12\n",
              "18843  I just installed a DX2-66 CPU in a clone mothe...      3\n",
              "18844  In article <1qkgbuINNs9n@shelley.u.washington....      1\n",
              "18845  After a tip from Gary Crum (crum@fcom.cc.utah....      7\n",
              "\n",
              "[18846 rows x 2 columns]"
            ]
          },
          "metadata": {
            "tags": []
          },
          "execution_count": 7
        }
      ]
    },
    {
      "cell_type": "code",
      "metadata": {
        "colab": {
          "base_uri": "https://localhost:8080/",
          "height": 419
        },
        "id": "TtPux9M4ud1O",
        "outputId": "6f2a7d96-f14f-4d40-e522-31aa469bdfbc"
      },
      "source": [
        "labels = []\n",
        "for i in df_news['class'] :\n",
        "  labels.append(news_data.target_names[i])\n",
        "\n",
        "df_news['category'] = labels\n",
        "df_news"
      ],
      "execution_count": null,
      "outputs": [
        {
          "output_type": "execute_result",
          "data": {
            "text/html": [
              "<div>\n",
              "<style scoped>\n",
              "    .dataframe tbody tr th:only-of-type {\n",
              "        vertical-align: middle;\n",
              "    }\n",
              "\n",
              "    .dataframe tbody tr th {\n",
              "        vertical-align: top;\n",
              "    }\n",
              "\n",
              "    .dataframe thead th {\n",
              "        text-align: right;\n",
              "    }\n",
              "</style>\n",
              "<table border=\"1\" class=\"dataframe\">\n",
              "  <thead>\n",
              "    <tr style=\"text-align: right;\">\n",
              "      <th></th>\n",
              "      <th>text</th>\n",
              "      <th>class</th>\n",
              "      <th>category</th>\n",
              "    </tr>\n",
              "  </thead>\n",
              "  <tbody>\n",
              "    <tr>\n",
              "      <th>0</th>\n",
              "      <td>\\n\\nI am sure some bashers of Pens fans are pr...</td>\n",
              "      <td>10</td>\n",
              "      <td>rec.sport.hockey</td>\n",
              "    </tr>\n",
              "    <tr>\n",
              "      <th>1</th>\n",
              "      <td>My brother is in the market for a high-perform...</td>\n",
              "      <td>3</td>\n",
              "      <td>comp.sys.ibm.pc.hardware</td>\n",
              "    </tr>\n",
              "    <tr>\n",
              "      <th>2</th>\n",
              "      <td>|&gt;The student of \"regional killings\" alias Dav...</td>\n",
              "      <td>17</td>\n",
              "      <td>talk.politics.mideast</td>\n",
              "    </tr>\n",
              "    <tr>\n",
              "      <th>3</th>\n",
              "      <td>In article &lt;1993Apr19.034517.12820@julian.uwo....</td>\n",
              "      <td>3</td>\n",
              "      <td>comp.sys.ibm.pc.hardware</td>\n",
              "    </tr>\n",
              "    <tr>\n",
              "      <th>4</th>\n",
              "      <td>1)    I have an old Jasmine drive which I cann...</td>\n",
              "      <td>4</td>\n",
              "      <td>comp.sys.mac.hardware</td>\n",
              "    </tr>\n",
              "    <tr>\n",
              "      <th>...</th>\n",
              "      <td>...</td>\n",
              "      <td>...</td>\n",
              "      <td>...</td>\n",
              "    </tr>\n",
              "    <tr>\n",
              "      <th>18841</th>\n",
              "      <td>DN&gt; From: nyeda@cnsvax.uwec.edu (David Nye)\\nD...</td>\n",
              "      <td>13</td>\n",
              "      <td>sci.med</td>\n",
              "    </tr>\n",
              "    <tr>\n",
              "      <th>18842</th>\n",
              "      <td>In article &lt;1993Apr22.004728.6736@mtu.edu&gt; cmw...</td>\n",
              "      <td>12</td>\n",
              "      <td>sci.electronics</td>\n",
              "    </tr>\n",
              "    <tr>\n",
              "      <th>18843</th>\n",
              "      <td>I just installed a DX2-66 CPU in a clone mothe...</td>\n",
              "      <td>3</td>\n",
              "      <td>comp.sys.ibm.pc.hardware</td>\n",
              "    </tr>\n",
              "    <tr>\n",
              "      <th>18844</th>\n",
              "      <td>In article &lt;1qkgbuINNs9n@shelley.u.washington....</td>\n",
              "      <td>1</td>\n",
              "      <td>comp.graphics</td>\n",
              "    </tr>\n",
              "    <tr>\n",
              "      <th>18845</th>\n",
              "      <td>After a tip from Gary Crum (crum@fcom.cc.utah....</td>\n",
              "      <td>7</td>\n",
              "      <td>rec.autos</td>\n",
              "    </tr>\n",
              "  </tbody>\n",
              "</table>\n",
              "<p>18846 rows × 3 columns</p>\n",
              "</div>"
            ],
            "text/plain": [
              "                                                    text  ...                  category\n",
              "0      \\n\\nI am sure some bashers of Pens fans are pr...  ...          rec.sport.hockey\n",
              "1      My brother is in the market for a high-perform...  ...  comp.sys.ibm.pc.hardware\n",
              "2      |>The student of \"regional killings\" alias Dav...  ...     talk.politics.mideast\n",
              "3      In article <1993Apr19.034517.12820@julian.uwo....  ...  comp.sys.ibm.pc.hardware\n",
              "4      1)    I have an old Jasmine drive which I cann...  ...     comp.sys.mac.hardware\n",
              "...                                                  ...  ...                       ...\n",
              "18841  DN> From: nyeda@cnsvax.uwec.edu (David Nye)\\nD...  ...                   sci.med\n",
              "18842  In article <1993Apr22.004728.6736@mtu.edu> cmw...  ...           sci.electronics\n",
              "18843  I just installed a DX2-66 CPU in a clone mothe...  ...  comp.sys.ibm.pc.hardware\n",
              "18844  In article <1qkgbuINNs9n@shelley.u.washington....  ...             comp.graphics\n",
              "18845  After a tip from Gary Crum (crum@fcom.cc.utah....  ...                 rec.autos\n",
              "\n",
              "[18846 rows x 3 columns]"
            ]
          },
          "metadata": {
            "tags": []
          },
          "execution_count": 8
        }
      ]
    },
    {
      "cell_type": "code",
      "metadata": {
        "colab": {
          "base_uri": "https://localhost:8080/",
          "height": 279
        },
        "id": "MRDLWIswtfeV",
        "outputId": "8d66a085-7b7c-4fc2-f2b9-8a217e5eebb2"
      },
      "source": [
        "df_2 = df_news.groupby('category').count()\n",
        "df_2.reset_index(inplace=True)\n",
        "sns.barplot(x='class', y='category', data=df_2);"
      ],
      "execution_count": null,
      "outputs": [
        {
          "output_type": "display_data",
          "data": {
            "image/png": "[encoded data removed]",
            "text/plain": [
              "<Figure size 432x288 with 1 Axes>"
            ]
          },
          "metadata": {
            "tags": [],
            "needs_background": "light"
          }
        }
      ]
    },
    {
      "cell_type": "code",
      "metadata": {
        "colab": {
          "base_uri": "https://localhost:8080/",
          "height": 669
        },
        "id": "pMmGlb_EtCMV",
        "outputId": "47da9afb-3c52-4834-9971-6cfd6fad992f"
      },
      "source": [
        "df_count = df_news.groupby('category').count()\n",
        "df_count.reset_index(inplace=True)\n",
        "df_count = df_count.sort_values(['class'], ascending = False)\n",
        "df_count"
      ],
      "execution_count": null,
      "outputs": [
        {
          "output_type": "execute_result",
          "data": {
            "text/html": [
              "<div>\n",
              "<style scoped>\n",
              "    .dataframe tbody tr th:only-of-type {\n",
              "        vertical-align: middle;\n",
              "    }\n",
              "\n",
              "    .dataframe tbody tr th {\n",
              "        vertical-align: top;\n",
              "    }\n",
              "\n",
              "    .dataframe thead th {\n",
              "        text-align: right;\n",
              "    }\n",
              "</style>\n",
              "<table border=\"1\" class=\"dataframe\">\n",
              "  <thead>\n",
              "    <tr style=\"text-align: right;\">\n",
              "      <th></th>\n",
              "      <th>category</th>\n",
              "      <th>text</th>\n",
              "      <th>class</th>\n",
              "    </tr>\n",
              "  </thead>\n",
              "  <tbody>\n",
              "    <tr>\n",
              "      <th>10</th>\n",
              "      <td>rec.sport.hockey</td>\n",
              "      <td>999</td>\n",
              "      <td>999</td>\n",
              "    </tr>\n",
              "    <tr>\n",
              "      <th>15</th>\n",
              "      <td>soc.religion.christian</td>\n",
              "      <td>997</td>\n",
              "      <td>997</td>\n",
              "    </tr>\n",
              "    <tr>\n",
              "      <th>8</th>\n",
              "      <td>rec.motorcycles</td>\n",
              "      <td>996</td>\n",
              "      <td>996</td>\n",
              "    </tr>\n",
              "    <tr>\n",
              "      <th>9</th>\n",
              "      <td>rec.sport.baseball</td>\n",
              "      <td>994</td>\n",
              "      <td>994</td>\n",
              "    </tr>\n",
              "    <tr>\n",
              "      <th>11</th>\n",
              "      <td>sci.crypt</td>\n",
              "      <td>991</td>\n",
              "      <td>991</td>\n",
              "    </tr>\n",
              "    <tr>\n",
              "      <th>7</th>\n",
              "      <td>rec.autos</td>\n",
              "      <td>990</td>\n",
              "      <td>990</td>\n",
              "    </tr>\n",
              "    <tr>\n",
              "      <th>13</th>\n",
              "      <td>sci.med</td>\n",
              "      <td>990</td>\n",
              "      <td>990</td>\n",
              "    </tr>\n",
              "    <tr>\n",
              "      <th>5</th>\n",
              "      <td>comp.windows.x</td>\n",
              "      <td>988</td>\n",
              "      <td>988</td>\n",
              "    </tr>\n",
              "    <tr>\n",
              "      <th>14</th>\n",
              "      <td>sci.space</td>\n",
              "      <td>987</td>\n",
              "      <td>987</td>\n",
              "    </tr>\n",
              "    <tr>\n",
              "      <th>2</th>\n",
              "      <td>comp.os.ms-windows.misc</td>\n",
              "      <td>985</td>\n",
              "      <td>985</td>\n",
              "    </tr>\n",
              "    <tr>\n",
              "      <th>12</th>\n",
              "      <td>sci.electronics</td>\n",
              "      <td>984</td>\n",
              "      <td>984</td>\n",
              "    </tr>\n",
              "    <tr>\n",
              "      <th>3</th>\n",
              "      <td>comp.sys.ibm.pc.hardware</td>\n",
              "      <td>982</td>\n",
              "      <td>982</td>\n",
              "    </tr>\n",
              "    <tr>\n",
              "      <th>6</th>\n",
              "      <td>misc.forsale</td>\n",
              "      <td>975</td>\n",
              "      <td>975</td>\n",
              "    </tr>\n",
              "    <tr>\n",
              "      <th>1</th>\n",
              "      <td>comp.graphics</td>\n",
              "      <td>973</td>\n",
              "      <td>973</td>\n",
              "    </tr>\n",
              "    <tr>\n",
              "      <th>4</th>\n",
              "      <td>comp.sys.mac.hardware</td>\n",
              "      <td>963</td>\n",
              "      <td>963</td>\n",
              "    </tr>\n",
              "    <tr>\n",
              "      <th>17</th>\n",
              "      <td>talk.politics.mideast</td>\n",
              "      <td>940</td>\n",
              "      <td>940</td>\n",
              "    </tr>\n",
              "    <tr>\n",
              "      <th>16</th>\n",
              "      <td>talk.politics.guns</td>\n",
              "      <td>910</td>\n",
              "      <td>910</td>\n",
              "    </tr>\n",
              "    <tr>\n",
              "      <th>0</th>\n",
              "      <td>alt.atheism</td>\n",
              "      <td>799</td>\n",
              "      <td>799</td>\n",
              "    </tr>\n",
              "    <tr>\n",
              "      <th>18</th>\n",
              "      <td>talk.politics.misc</td>\n",
              "      <td>775</td>\n",
              "      <td>775</td>\n",
              "    </tr>\n",
              "    <tr>\n",
              "      <th>19</th>\n",
              "      <td>talk.religion.misc</td>\n",
              "      <td>628</td>\n",
              "      <td>628</td>\n",
              "    </tr>\n",
              "  </tbody>\n",
              "</table>\n",
              "</div>"
            ],
            "text/plain": [
              "                    category  text  class\n",
              "10          rec.sport.hockey   999    999\n",
              "15    soc.religion.christian   997    997\n",
              "8            rec.motorcycles   996    996\n",
              "9         rec.sport.baseball   994    994\n",
              "11                 sci.crypt   991    991\n",
              "7                  rec.autos   990    990\n",
              "13                   sci.med   990    990\n",
              "5             comp.windows.x   988    988\n",
              "14                 sci.space   987    987\n",
              "2    comp.os.ms-windows.misc   985    985\n",
              "12           sci.electronics   984    984\n",
              "3   comp.sys.ibm.pc.hardware   982    982\n",
              "6               misc.forsale   975    975\n",
              "1              comp.graphics   973    973\n",
              "4      comp.sys.mac.hardware   963    963\n",
              "17     talk.politics.mideast   940    940\n",
              "16        talk.politics.guns   910    910\n",
              "0                alt.atheism   799    799\n",
              "18        talk.politics.misc   775    775\n",
              "19        talk.religion.misc   628    628"
            ]
          },
          "metadata": {
            "tags": []
          },
          "execution_count": 45
        }
      ]
    },
    {
      "cell_type": "code",
      "metadata": {
        "colab": {
          "base_uri": "https://localhost:8080/",
          "height": 569
        },
        "id": "wdztJ_YyuFw7",
        "outputId": "a456106e-8b59-4433-c3ef-f824ab062284"
      },
      "source": [
        "import seaborn as sns\n",
        "import matplotlib.pyplot as plt\n",
        "\n",
        "ax = plt.subplots(figsize=(9, 9))\n",
        "pal = sns.color_palette(\"Reds\", n_colors=20)\n",
        "pal.reverse()\n",
        "ax = sns.barplot(x = 'class', y = 'category', data = df_count, palette = pal, order = df_count['category'])\n",
        "plt.xlabel(\"Count\")\n",
        "plt.ylabel(\"Categories\")"
      ],
      "execution_count": null,
      "outputs": [
        {
          "output_type": "execute_result",
          "data": {
            "text/plain": [
              "Text(0, 0.5, 'Categories')"
            ]
          },
          "metadata": {
            "tags": []
          },
          "execution_count": 70
        },
        {
          "output_type": "display_data",
          "data": {
            "image/png": "[encoded data removed]",
            "text/plain": [
              "<Figure size 648x648 with 1 Axes>"
            ]
          },
          "metadata": {
            "tags": [],
            "needs_background": "light"
          }
        }
      ]
    },
    {
      "cell_type": "code",
      "metadata": {
        "id": "Xs3f6CQ_snWL"
      },
      "source": [
        "counter = df_news.groupby(['category']).count()['class']"
      ],
      "execution_count": null,
      "outputs": []
    },
    {
      "cell_type": "code",
      "metadata": {
        "colab": {
          "base_uri": "https://localhost:8080/",
          "height": 569
        },
        "id": "JXUkxRf3rE38",
        "outputId": "83f7213e-5f01-4e82-8860-8e8a15f48b4c"
      },
      "source": [
        "import seaborn as sns\n",
        "import matplotlib.pyplot as plt\n",
        "\n",
        "ax = plt.subplots(figsize=(9, 9))\n",
        "ax = sns.barplot(x = counter, y = df_news['category'])\n",
        "plt.xlabel(\"Count\")\n",
        "plt.ylabel(\"Categories\")"
      ],
      "execution_count": null,
      "outputs": [
        {
          "output_type": "execute_result",
          "data": {
            "text/plain": [
              "Text(0, 0.5, 'Categories')"
            ]
          },
          "metadata": {
            "tags": []
          },
          "execution_count": 22
        },
        {
          "output_type": "display_data",
          "data": {
            "image/png": "[encoded data removed]",
            "text/plain": [
              "<Figure size 648x648 with 1 Axes>"
            ]
          },
          "metadata": {
            "tags": [],
            "needs_background": "light"
          }
        }
      ]
    },
    {
      "cell_type": "markdown",
      "metadata": {
        "id": "aQjJMzzIy9Re"
      },
      "source": [
        "# Data Preprocessing"
      ]
    },
    {
      "cell_type": "code",
      "metadata": {
        "id": "jAImvXRkvMeg"
      },
      "source": [
        "from sklearn.model_selection import train_test_split\n",
        "\n",
        "x_train, x_test, y_train, y_test = train_test_split(df_news['text'].values, df_news['class'].values, test_size = 0.2, random_state = 0)"
      ],
      "execution_count": null,
      "outputs": []
    },
    {
      "cell_type": "code",
      "metadata": {
        "id": "sNr-Gmw9rJg3"
      },
      "source": [
        "from sklearn.feature_extraction.text import TfidfVectorizer\n",
        "\n",
        "vectorizer = TfidfVectorizer(stop_words = 'english', lowercase = True)\n",
        "news_vector = vectorizer.fit_transform(x_train)\n",
        "news_vector_test = vectorizer.transform(x_test)"
      ],
      "execution_count": null,
      "outputs": []
    },
    {
      "cell_type": "code",
      "metadata": {
        "colab": {
          "base_uri": "https://localhost:8080/"
        },
        "id": "J1wzmCogqhbS",
        "outputId": "9b657789-e9e1-4f2a-ce45-79810aa61043"
      },
      "source": [
        "from google.colab import drive\n",
        "\n",
        "drive.mount('/gdrive')"
      ],
      "execution_count": null,
      "outputs": [
        {
          "output_type": "stream",
          "text": [
            "Mounted at /gdrive\n"
          ],
          "name": "stdout"
        }
      ]
    },
    {
      "cell_type": "code",
      "metadata": {
        "id": "Dt62lxHxFy9r"
      },
      "source": [
        "import pickle\n",
        "\n",
        "pickle.dump(vectorizer, open(\"/gdrive/My Drive/Upload/Machine Learning/Projects/Text Classification using TF-IDF Vectorizer and Multinomial Naive Bayes/news_vectorizer.sav\", \"wb\"))"
      ],
      "execution_count": null,
      "outputs": []
    },
    {
      "cell_type": "code",
      "metadata": {
        "id": "y9ujkKERqaaa"
      },
      "source": [
        "import pickle\n",
        "\n",
        "vectorizer = pickle.load( open(\"/gdrive/My Drive/Upload/Machine Learning/Projects/Text Classification using TF-IDF Vectorizer and Multinomial Naive Bayes/news_vectorizer.sav\", \"rb\"))"
      ],
      "execution_count": null,
      "outputs": []
    },
    {
      "cell_type": "markdown",
      "metadata": {
        "id": "O1jVC7ZpzC5_"
      },
      "source": [
        "# Model Training"
      ]
    },
    {
      "cell_type": "markdown",
      "metadata": {
        "id": "W9Ff1A8y3GA2"
      },
      "source": [
        "## Default Multinomial Naive Bayes"
      ]
    },
    {
      "cell_type": "code",
      "metadata": {
        "id": "mDFhiOh6v_Qm"
      },
      "source": [
        "from sklearn.naive_bayes import MultinomialNB\n",
        "from sklearn.model_selection import GridSearchCV\n",
        "\n",
        "MNB_model = MultinomialNB()\n",
        "MNB_model.fit(news_vector, y_train)\n",
        "y_pred = MNB_model.predict(news_vector_test)"
      ],
      "execution_count": null,
      "outputs": []
    },
    {
      "cell_type": "markdown",
      "metadata": {
        "id": "AOH8YfaA3LLm"
      },
      "source": [
        "## Multinomial Naive Bayes with Grid Search"
      ]
    },
    {
      "cell_type": "code",
      "metadata": {
        "colab": {
          "base_uri": "https://localhost:8080/"
        },
        "id": "mWEkLG0u2MBy",
        "outputId": "5eddeea9-9420-45dd-8e04-008bcf2c9738"
      },
      "source": [
        "# Dengan Grid Search\n",
        "from sklearn.naive_bayes import MultinomialNB\n",
        "from sklearn.model_selection import GridSearchCV\n",
        "\n",
        "MNB_model = MultinomialNB()\n",
        "\n",
        "parameters = {\n",
        "    'alpha' : [0, 1.0, 2.0, 3.0],\n",
        "    'fit_prior' : [True, False]\n",
        "}\n",
        "\n",
        "grid_search = GridSearchCV(estimator = MNB_model, param_grid = parameters)\n",
        "grid_search.fit(news_vector, y_train)"
      ],
      "execution_count": null,
      "outputs": [
        {
          "output_type": "stream",
          "text": [
            "/usr/local/lib/python3.7/dist-packages/sklearn/naive_bayes.py:507: UserWarning: alpha too small will result in numeric errors, setting alpha = 1.0e-10\n",
            "  'setting alpha = %.1e' % _ALPHA_MIN)\n",
            "/usr/local/lib/python3.7/dist-packages/sklearn/naive_bayes.py:507: UserWarning: alpha too small will result in numeric errors, setting alpha = 1.0e-10\n",
            "  'setting alpha = %.1e' % _ALPHA_MIN)\n",
            "/usr/local/lib/python3.7/dist-packages/sklearn/naive_bayes.py:507: UserWarning: alpha too small will result in numeric errors, setting alpha = 1.0e-10\n",
            "  'setting alpha = %.1e' % _ALPHA_MIN)\n",
            "/usr/local/lib/python3.7/dist-packages/sklearn/naive_bayes.py:507: UserWarning: alpha too small will result in numeric errors, setting alpha = 1.0e-10\n",
            "  'setting alpha = %.1e' % _ALPHA_MIN)\n",
            "/usr/local/lib/python3.7/dist-packages/sklearn/naive_bayes.py:507: UserWarning: alpha too small will result in numeric errors, setting alpha = 1.0e-10\n",
            "  'setting alpha = %.1e' % _ALPHA_MIN)\n",
            "/usr/local/lib/python3.7/dist-packages/sklearn/naive_bayes.py:507: UserWarning: alpha too small will result in numeric errors, setting alpha = 1.0e-10\n",
            "  'setting alpha = %.1e' % _ALPHA_MIN)\n",
            "/usr/local/lib/python3.7/dist-packages/sklearn/naive_bayes.py:507: UserWarning: alpha too small will result in numeric errors, setting alpha = 1.0e-10\n",
            "  'setting alpha = %.1e' % _ALPHA_MIN)\n",
            "/usr/local/lib/python3.7/dist-packages/sklearn/naive_bayes.py:507: UserWarning: alpha too small will result in numeric errors, setting alpha = 1.0e-10\n",
            "  'setting alpha = %.1e' % _ALPHA_MIN)\n",
            "/usr/local/lib/python3.7/dist-packages/sklearn/naive_bayes.py:507: UserWarning: alpha too small will result in numeric errors, setting alpha = 1.0e-10\n",
            "  'setting alpha = %.1e' % _ALPHA_MIN)\n",
            "/usr/local/lib/python3.7/dist-packages/sklearn/naive_bayes.py:507: UserWarning: alpha too small will result in numeric errors, setting alpha = 1.0e-10\n",
            "  'setting alpha = %.1e' % _ALPHA_MIN)\n",
            "/usr/local/lib/python3.7/dist-packages/sklearn/naive_bayes.py:507: UserWarning: alpha too small will result in numeric errors, setting alpha = 1.0e-10\n",
            "  'setting alpha = %.1e' % _ALPHA_MIN)\n"
          ],
          "name": "stderr"
        },
        {
          "output_type": "execute_result",
          "data": {
            "text/plain": [
              "GridSearchCV(cv=None, error_score=nan,\n",
              "             estimator=MultinomialNB(alpha=1.0, class_prior=None,\n",
              "                                     fit_prior=True),\n",
              "             iid='deprecated', n_jobs=None,\n",
              "             param_grid={'alpha': [0, 1.0, 2.0, 3.0],\n",
              "                         'fit_prior': [True, False]},\n",
              "             pre_dispatch='2*n_jobs', refit=True, return_train_score=False,\n",
              "             scoring=None, verbose=0)"
            ]
          },
          "metadata": {
            "tags": []
          },
          "execution_count": 73
        }
      ]
    },
    {
      "cell_type": "code",
      "metadata": {
        "colab": {
          "base_uri": "https://localhost:8080/"
        },
        "id": "1-s9fwEJ3AL4",
        "outputId": "055c9cfb-ebed-463c-9a7e-4fe2607f9ece"
      },
      "source": [
        "grid_search.best_params_"
      ],
      "execution_count": null,
      "outputs": [
        {
          "output_type": "execute_result",
          "data": {
            "text/plain": [
              "{'alpha': 0, 'fit_prior': True}"
            ]
          },
          "metadata": {
            "tags": []
          },
          "execution_count": 74
        }
      ]
    },
    {
      "cell_type": "code",
      "metadata": {
        "colab": {
          "base_uri": "https://localhost:8080/"
        },
        "id": "UH7109S73O_4",
        "outputId": "d0ef689b-0f55-4c97-b34d-67b9115d5be4"
      },
      "source": [
        "new_MNB_model = MultinomialNB(alpha = 0, fit_prior = True)\n",
        "\n",
        "new_MNB_model.fit(news_vector, y_train)\n",
        "y_pred = new_MNB_model.predict(news_vector_test)"
      ],
      "execution_count": null,
      "outputs": [
        {
          "output_type": "stream",
          "text": [
            "/usr/local/lib/python3.7/dist-packages/sklearn/naive_bayes.py:507: UserWarning: alpha too small will result in numeric errors, setting alpha = 1.0e-10\n",
            "  'setting alpha = %.1e' % _ALPHA_MIN)\n"
          ],
          "name": "stderr"
        }
      ]
    },
    {
      "cell_type": "code",
      "metadata": {
        "id": "gCGHk2BfNBOn",
        "colab": {
          "base_uri": "https://localhost:8080/"
        },
        "outputId": "d1539dbf-e9f6-4afd-f929-c4ccaa5aa343"
      },
      "source": [
        "from google.colab import drive\n",
        "drive.mount('/gdrive')"
      ],
      "execution_count": null,
      "outputs": [
        {
          "output_type": "stream",
          "text": [
            "Drive already mounted at /gdrive; to attempt to forcibly remount, call drive.mount(\"/gdrive\", force_remount=True).\n"
          ],
          "name": "stdout"
        }
      ]
    },
    {
      "cell_type": "code",
      "metadata": {
        "id": "beQi3xDOFZh8"
      },
      "source": [
        "import pickle\n",
        "\n",
        "pickle.dump(new_MNB_model, open(\"/gdrive/My Drive/Upload/MNB_Model.sav\", \"wb\"))\n",
        "new_MNB_model = pickle.load( open(\"/gdrive/My Drive/Upload/MNB_Model.sav\", \"rb\"))"
      ],
      "execution_count": null,
      "outputs": []
    },
    {
      "cell_type": "markdown",
      "metadata": {
        "id": "eW_fb9WTzFlt"
      },
      "source": [
        "# Evaluation"
      ]
    },
    {
      "cell_type": "markdown",
      "metadata": {
        "id": "TOZvrP8h5Efa"
      },
      "source": [
        "## Confussion Matrix"
      ]
    },
    {
      "cell_type": "code",
      "metadata": {
        "colab": {
          "base_uri": "https://localhost:8080/",
          "height": 694
        },
        "id": "u4ZUBW-J5C20",
        "outputId": "97552726-7e15-4c2d-da82-2c9a93ec05c4"
      },
      "source": [
        "from sklearn.metrics import confusion_matrix\n",
        "import seaborn as sns\n",
        "import matplotlib.pyplot as plt\n",
        "\n",
        "conf_mat = confusion_matrix(y_test, y_pred)\n",
        "conf_mat\n",
        "\n",
        "ax = plt.subplots(figsize=(9, 9))\n",
        "ax = sns.heatmap(conf_mat, square = True, annot=True, fmt = 'd', cmap=\"YlGnBu\", xticklabels = news_data.target_names, yticklabels = news_data.target_names, cbar = False)\n",
        "plt.xlabel(\"Predicted Class\")\n",
        "plt.ylabel(\"Actual Class\")"
      ],
      "execution_count": null,
      "outputs": [
        {
          "output_type": "execute_result",
          "data": {
            "text/plain": [
              "Text(66.47999999999999, 0.5, 'Actual Class')"
            ]
          },
          "metadata": {
            "tags": []
          },
          "execution_count": 102
        },
        {
          "output_type": "display_data",
          "data": {
            "image/png": "[encoded data removed]",
            "text/plain": [
              "<Figure size 648x648 with 1 Axes>"
            ]
          },
          "metadata": {
            "tags": [],
            "needs_background": "light"
          }
        }
      ]
    },
    {
      "cell_type": "markdown",
      "metadata": {
        "id": "YcfSk6zl5DYc"
      },
      "source": [
        "## Accuracy"
      ]
    },
    {
      "cell_type": "code",
      "metadata": {
        "colab": {
          "base_uri": "https://localhost:8080/"
        },
        "id": "7CG25cBmwxwj",
        "outputId": "298e0f90-8f16-4211-c737-5c3f861adca1"
      },
      "source": [
        "from sklearn.metrics import accuracy_score\n",
        "\n",
        "accuracy_score(y_test, y_pred)"
      ],
      "execution_count": null,
      "outputs": [
        {
          "output_type": "execute_result",
          "data": {
            "text/plain": [
              "0.8655172413793103"
            ]
          },
          "metadata": {
            "tags": []
          },
          "execution_count": 80
        }
      ]
    },
    {
      "cell_type": "markdown",
      "metadata": {
        "id": "emUGNer2EcLJ"
      },
      "source": [
        "## Precision"
      ]
    },
    {
      "cell_type": "code",
      "metadata": {
        "colab": {
          "base_uri": "https://localhost:8080/"
        },
        "id": "_j0u5nVpBhoT",
        "outputId": "05d44af8-0a00-4cf1-e2d8-5a138c4df29e"
      },
      "source": [
        "from sklearn.metrics import precision_score\n",
        "\n",
        "precision_score(y_test, y_pred, average = 'micro')"
      ],
      "execution_count": null,
      "outputs": [
        {
          "output_type": "execute_result",
          "data": {
            "text/plain": [
              "0.8655172413793103"
            ]
          },
          "metadata": {
            "tags": []
          },
          "execution_count": 110
        }
      ]
    },
    {
      "cell_type": "markdown",
      "metadata": {
        "id": "wEsrhbcYEelb"
      },
      "source": [
        "## Recall"
      ]
    },
    {
      "cell_type": "code",
      "metadata": {
        "colab": {
          "base_uri": "https://localhost:8080/"
        },
        "id": "2UONPUdKBl0y",
        "outputId": "ee6bbb6c-a98b-450a-cee5-4bde03cee29c"
      },
      "source": [
        "from sklearn.metrics import recall_score\n",
        "\n",
        "recall_score(y_test, y_pred, average = 'micro')"
      ],
      "execution_count": null,
      "outputs": [
        {
          "output_type": "execute_result",
          "data": {
            "text/plain": [
              "0.8655172413793103"
            ]
          },
          "metadata": {
            "tags": []
          },
          "execution_count": 111
        }
      ]
    },
    {
      "cell_type": "markdown",
      "metadata": {
        "id": "zw4zA1FwEgRX"
      },
      "source": [
        "## F1 Score"
      ]
    },
    {
      "cell_type": "code",
      "metadata": {
        "colab": {
          "base_uri": "https://localhost:8080/"
        },
        "id": "DaqYJFz7Eijl",
        "outputId": "00ceeaa1-d733-49a9-a70b-b644926beef5"
      },
      "source": [
        "from sklearn.metrics import f1_score\n",
        "\n",
        "f1_score(y_test, y_pred, average = 'micro')"
      ],
      "execution_count": null,
      "outputs": [
        {
          "output_type": "execute_result",
          "data": {
            "text/plain": [
              "0.8655172413793104"
            ]
          },
          "metadata": {
            "tags": []
          },
          "execution_count": 116
        }
      ]
    },
    {
      "cell_type": "markdown",
      "metadata": {
        "id": "9fiCh11pzIS9"
      },
      "source": [
        "# Prediction"
      ]
    },
    {
      "cell_type": "code",
      "metadata": {
        "colab": {
          "base_uri": "https://localhost:8080/"
        },
        "id": "1EQe5xygxwEh",
        "outputId": "223d0753-0e45-49b0-edd9-50bfa05b79ee"
      },
      "source": [
        "news_sentence = [\"NASA is an independent agency of the U.S. federal government responsible for the civilian space program, as well as aeronautics and space research.\"]\n",
        "news_sentence = vectorizer.transform(news_sentence)\n",
        "\n",
        "print(news_data.target_names[new_MNB_model.predict(news_sentence)[0]])"
      ],
      "execution_count": null,
      "outputs": [
        {
          "output_type": "stream",
          "text": [
            "sci.space\n"
          ],
          "name": "stdout"
        }
      ]
    }
  ]
}